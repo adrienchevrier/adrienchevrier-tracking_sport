{
 "cells": [
  {
   "cell_type": "code",
   "execution_count": 1,
   "metadata": {},
   "outputs": [
    {
     "name": "stdout",
     "output_type": "stream",
     "text": [
      "Requirement already satisfied: pymongo in /opt/conda/lib/python3.7/site-packages (3.10.1)\n",
      "Note: you may need to restart the kernel to use updated packages.\n"
     ]
    }
   ],
   "source": [
    "pip install pymongo"
   ]
  },
  {
   "cell_type": "code",
   "execution_count": 2,
   "metadata": {},
   "outputs": [],
   "source": [
    "from garminconnect import (\n",
    "    Garmin,\n",
    "    GarminConnectConnectionError,\n",
    "    GarminConnectTooManyRequestsError,\n",
    "    GarminConnectAuthenticationError,\n",
    ")\n",
    "from datetime import date\n",
    "import datetime\n",
    "import pandas as pd\n",
    "pd.options.display.max_columns = None\n",
    "import json \n",
    "import pymongo\n",
    "from datetime import datetime\n",
    "import logging\n",
    "today = date.today()"
   ]
  },
  {
   "cell_type": "code",
   "execution_count": 4,
   "metadata": {},
   "outputs": [],
   "source": [
    "from configparser import ConfigParser\n",
    "\n",
    "#Read config.ini file\n",
    "config_object = ConfigParser()\n",
    "config_object.read(\"config_dev.ini\")\n",
    "\n",
    "#Get the password\n",
    "userinfo = config_object[\"USERINFO\"]"
   ]
  },
  {
   "cell_type": "code",
   "execution_count": 5,
   "metadata": {},
   "outputs": [],
   "source": [
    "\"\"\"\n",
    "Initialize Garmin client with credentials\n",
    "\"\"\"\n",
    "try:\n",
    "    client = Garmin(userinfo[\"email\"],userinfo[\"password\"])\n",
    "except (\n",
    "    GarminConnectConnectionError,\n",
    "    GarminConnectAuthenticationError,\n",
    "    GarminConnectTooManyRequestsError,\n",
    ") as err:\n",
    "    print(\"Error occured during Garmin Connect Client init: %s\" % err)\n",
    "    quit()\n",
    "except Exception:  # pylint: disable=broad-except\n",
    "    print(\"Unknown error occured during Garmin Connect Client init\")\n",
    "    quit()"
   ]
  },
  {
   "cell_type": "code",
   "execution_count": 6,
   "metadata": {},
   "outputs": [],
   "source": [
    "\"\"\"\n",
    "Login to Garmin Connect portal\n",
    "\"\"\"\n",
    "try:\n",
    "    client.login()\n",
    "except (\n",
    "    GarminConnectConnectionError,\n",
    "    GarminConnectAuthenticationError,\n",
    "    GarminConnectTooManyRequestsError,\n",
    ") as err:\n",
    "    print(\"Error occured during Garmin Connect Client login: %s\" % err)\n",
    "    quit()\n",
    "except Exception:  # pylint: disable=broad-except\n",
    "    print(\"Unknown error occured during Garmin Connect Client login\")\n",
    "    quit()"
   ]
  },
  {
   "cell_type": "code",
   "execution_count": 7,
   "metadata": {},
   "outputs": [],
   "source": [
    "\"\"\"\n",
    "Get full name from profile\n",
    "\"\"\"\n",
    "try:\n",
    "    logging.info('Garmin user : '+client.get_full_name())\n",
    "except (\n",
    "    GarminConnectConnectionError,\n",
    "    GarminConnectAuthenticationError,\n",
    "    GarminConnectTooManyRequestsError,\n",
    ") as err:\n",
    "    print(\"Error occured during Garmin Connect Client get full name: %s\" % err)\n",
    "    quit()\n",
    "except Exception:  # pylint: disable=broad-except\n",
    "    print(\"Unknown error occured during Garmin Connect Client get full name\")\n",
    "    quit()"
   ]
  },
  {
   "cell_type": "code",
   "execution_count": 8,
   "metadata": {},
   "outputs": [
    {
     "data": {
      "text/plain": [
       "'metric'"
      ]
     },
     "execution_count": 8,
     "metadata": {},
     "output_type": "execute_result"
    }
   ],
   "source": [
    "\"\"\"\n",
    "Get unit system from profile\n",
    "\"\"\"\n",
    "try:\n",
    "    unitsystem = client.get_unit_system()\n",
    "except (\n",
    "    GarminConnectConnectionError,\n",
    "    GarminConnectAuthenticationError,\n",
    "    GarminConnectTooManyRequestsError,\n",
    ") as err:\n",
    "    print(\"Error occurred during Garmin Connect Client get unit system: %s\" % err)\n",
    "    quit()\n",
    "except Exception:  # pylint: disable=broad-except\n",
    "    print(\"Unknown error occurred during Garmin Connect Client get unit system\")\n",
    "    quit()\n",
    "unitsystem"
   ]
  },
  {
   "cell_type": "code",
   "execution_count": 9,
   "metadata": {
    "scrolled": true
   },
   "outputs": [
    {
     "data": {
      "text/plain": [
       "133"
      ]
     },
     "execution_count": 9,
     "metadata": {},
     "output_type": "execute_result"
    }
   ],
   "source": [
    "\n",
    "\"\"\"\n",
    "Get activities data\n",
    "\"\"\"\n",
    "try:\n",
    "    activities = client.get_activities(0,10000) # 0=start, 1=limit\n",
    "except (\n",
    "    GarminConnectConnectionError,\n",
    "    GarminConnectAuthenticationError,\n",
    "    GarminConnectTooManyRequestsError,\n",
    ") as err:\n",
    "    print(\"Error occured during Garmin Connect Client get activities: %s\" % err)\n",
    "    quit()\n",
    "except Exception:  # pylint: disable=broad-except\n",
    "    print(\"Unknown error occured during Garmin Connect Client get activities\")\n",
    "    quit()\n",
    "    \n",
    "len(activities)"
   ]
  },
  {
   "cell_type": "code",
   "execution_count": null,
   "metadata": {},
   "outputs": [],
   "source": [
    "#Create pandas dataframe from data\n",
    "df_act = pd.DataFrame(activities)\n",
    "df_act.head()"
   ]
  },
  {
   "cell_type": "code",
   "execution_count": null,
   "metadata": {},
   "outputs": [],
   "source": [
    "\"\"\"\n",
    "Setup Mongo Connection\n",
    "\"\"\"\n",
    "mongoclient = \"mongodb://mongo-app:27017/\"\n",
    "mongodb = \"activities\"\n",
    "mongocol = \"general_tests\"\n",
    "mongounit = \"metadata_tests\""
   ]
  },
  {
   "cell_type": "code",
   "execution_count": null,
   "metadata": {},
   "outputs": [],
   "source": [
    "\"\"\"\n",
    "Connect to Mongo DB\n",
    "\"\"\"\n",
    "myclient = pymongo.MongoClient(mongoclient)\n",
    "mydb = myclient[mongodb]\n",
    "mycol = mydb[mongocol]\n",
    "mycolunit = mydb[mongounit]\n",
    "\n",
    "# Get last activity\n",
    "#last_activity = mycol.find().sort(\"_id\").limit(1)[0]\n",
    "#last_activity"
   ]
  },
  {
   "cell_type": "code",
   "execution_count": null,
   "metadata": {},
   "outputs": [],
   "source": [
    "full_activities = df_act[['activityId','activityName','activityType','distance','duration','averageHR','startTimeLocal']]\n",
    "full_activities.loc[:, 'duration min'] = full_activities['duration']/60\n",
    "full_activities['activityType'] = full_activities['activityType'].apply(\n",
    "    lambda x : x['typeKey'])\n",
    "full_activities['startTimeLocal'] = full_activities['startTimeLocal'].apply(\n",
    "    lambda x :datetime.strptime(x, '%Y-%m-%d %H:%M:%S'))\n",
    "full_activities['week'] = full_activities['startTimeLocal'].apply(lambda x : x.strftime(\"%V\"))\n",
    "full_activities['date'] = full_activities['startTimeLocal'].apply(lambda x : x.date())\n",
    "full_activities['date'] =  pd.to_datetime(full_activities['date']).dt.strftime('%Y-%m-%d')\n",
    "full_activities.head(15)"
   ]
  },
  {
   "cell_type": "code",
   "execution_count": null,
   "metadata": {},
   "outputs": [],
   "source": [
    "\n",
    "\n",
    "\n",
    "records = json.loads(full_activities.T.to_json()).values()"
   ]
  },
  {
   "cell_type": "markdown",
   "metadata": {},
   "source": [
    "## handle units"
   ]
  },
  {
   "cell_type": "code",
   "execution_count": null,
   "metadata": {},
   "outputs": [],
   "source": [
    "metadata = {\n",
    "    '_id':'metadata',\n",
    "    'unitsystem':unitsystem\n",
    "}\n",
    "\n",
    "mycolunit.insert_one(metadata)"
   ]
  },
  {
   "cell_type": "code",
   "execution_count": null,
   "metadata": {},
   "outputs": [],
   "source": [
    "mycolunit.find_one()"
   ]
  },
  {
   "cell_type": "markdown",
   "metadata": {},
   "source": [
    "## insert many"
   ]
  },
  {
   "cell_type": "code",
   "execution_count": null,
   "metadata": {},
   "outputs": [],
   "source": [
    "mycol.insert_many(records)"
   ]
  },
  {
   "cell_type": "markdown",
   "metadata": {},
   "source": [
    "### update"
   ]
  },
  {
   "cell_type": "code",
   "execution_count": null,
   "metadata": {
    "scrolled": true
   },
   "outputs": [],
   "source": [
    "for doc in records:\n",
    "    info = mycol.replace_one(\n",
    "        {'activityId' : doc['activityId']},\n",
    "        doc,\n",
    "        upsert=True\n",
    "    )\n",
    "    print(info)"
   ]
  },
  {
   "cell_type": "markdown",
   "metadata": {},
   "source": [
    "## User stats"
   ]
  },
  {
   "cell_type": "code",
   "execution_count": 10,
   "metadata": {},
   "outputs": [],
   "source": [
    "\"\"\"\n",
    "Get stats and body composition data\n",
    "\"\"\"\n",
    "try:\n",
    "    stats = client.get_stats_and_body(today.isoformat())\n",
    "except (\n",
    "    GarminConnectConnectionError,\n",
    "    GarminConnectAuthenticationError,\n",
    "    GarminConnectTooManyRequestsError,\n",
    ") as err:\n",
    "    print(\"Error occurred during Garmin Connect Client get stats and body composition: %s\" % err)\n",
    "    quit()\n",
    "except Exception:  # pylint: disable=broad-except\n",
    "    print(\"Unknown error occurred during Garmin Connect Client get stats and body composition\")\n",
    "    quit()"
   ]
  },
  {
   "cell_type": "code",
   "execution_count": 11,
   "metadata": {
    "scrolled": true
   },
   "outputs": [
    {
     "data": {
      "text/plain": [
       "{'userProfileId': 83095189,\n",
       " 'totalKilocalories': 1577.0,\n",
       " 'activeKilocalories': 242.0,\n",
       " 'bmrKilocalories': 1335.0,\n",
       " 'wellnessKilocalories': 1577.0,\n",
       " 'burnedKilocalories': None,\n",
       " 'consumedKilocalories': None,\n",
       " 'remainingKilocalories': 1413.0,\n",
       " 'totalSteps': 1226,\n",
       " 'netCalorieGoal': None,\n",
       " 'totalDistanceMeters': 998,\n",
       " 'wellnessDistanceMeters': 998,\n",
       " 'wellnessActiveKilocalories': 242.0,\n",
       " 'netRemainingKilocalories': 242.0,\n",
       " 'userDailySummaryId': 83095189,\n",
       " 'calendarDate': '2020-07-30',\n",
       " 'rule': {'typeId': 3, 'typeKey': 'subscribers'},\n",
       " 'uuid': 'da9cd0b915eb46cabe63ac37983de0c2',\n",
       " 'dailyStepGoal': 10000,\n",
       " 'wellnessStartTimeGmt': '2020-07-29T22:00:00.0',\n",
       " 'wellnessStartTimeLocal': '2020-07-30T00:00:00.0',\n",
       " 'wellnessEndTimeGmt': '2020-07-30T13:41:00.0',\n",
       " 'wellnessEndTimeLocal': '2020-07-30T15:41:00.0',\n",
       " 'durationInMilliseconds': 56460000,\n",
       " 'wellnessDescription': None,\n",
       " 'highlyActiveSeconds': 977,\n",
       " 'activeSeconds': 1019,\n",
       " 'sedentarySeconds': 31004,\n",
       " 'sleepingSeconds': 23460,\n",
       " 'includesWellnessData': True,\n",
       " 'includesActivityData': False,\n",
       " 'includesCalorieConsumedData': False,\n",
       " 'privacyProtected': False,\n",
       " 'moderateIntensityMinutes': 0,\n",
       " 'vigorousIntensityMinutes': 0,\n",
       " 'floorsAscendedInMeters': 19.871,\n",
       " 'floorsDescendedInMeters': 12.469,\n",
       " 'floorsAscended': 6.51936,\n",
       " 'floorsDescended': 4.09088,\n",
       " 'intensityMinutesGoal': 150,\n",
       " 'userFloorsAscendedGoal': 10,\n",
       " 'minHeartRate': 49,\n",
       " 'maxHeartRate': 153,\n",
       " 'restingHeartRate': 60,\n",
       " 'lastSevenDaysAvgRestingHeartRate': 62,\n",
       " 'source': 'GARMIN',\n",
       " 'averageStressLevel': 18,\n",
       " 'maxStressLevel': 95,\n",
       " 'stressDuration': 11340,\n",
       " 'restStressDuration': 37860,\n",
       " 'activityStressDuration': 3420,\n",
       " 'uncategorizedStressDuration': 3300,\n",
       " 'totalStressDuration': 55920,\n",
       " 'lowStressDuration': 8400,\n",
       " 'mediumStressDuration': 2520,\n",
       " 'highStressDuration': 420,\n",
       " 'stressPercentage': 20.28,\n",
       " 'restStressPercentage': 67.7,\n",
       " 'activityStressPercentage': 6.12,\n",
       " 'uncategorizedStressPercentage': 5.9,\n",
       " 'lowStressPercentage': 15.02,\n",
       " 'mediumStressPercentage': 4.51,\n",
       " 'highStressPercentage': 0.75,\n",
       " 'stressQualifier': 'UNKNOWN',\n",
       " 'measurableAwakeDuration': 29400,\n",
       " 'measurableAsleepDuration': 23220,\n",
       " 'lastSyncTimestampGMT': '2020-07-30T13:42:04.590',\n",
       " 'minAvgHeartRate': 51,\n",
       " 'maxAvgHeartRate': 140,\n",
       " 'bodyBatteryChargedValue': None,\n",
       " 'bodyBatteryDrainedValue': None,\n",
       " 'bodyBatteryHighestValue': None,\n",
       " 'bodyBatteryLowestValue': None,\n",
       " 'bodyBatteryMostRecentValue': None,\n",
       " 'abnormalHeartRateAlertsCount': None,\n",
       " 'averageSpo2': None,\n",
       " 'lowestSpo2': None,\n",
       " 'latestSpo2': None,\n",
       " 'latestSpo2ReadingTimeGmt': None,\n",
       " 'latestSpo2ReadingTimeLocal': None,\n",
       " 'averageMonitoringEnvironmentAltitude': None,\n",
       " 'from': 1596067200000,\n",
       " 'until': 1596153599999,\n",
       " 'weight': 68200.0,\n",
       " 'bmi': None,\n",
       " 'bodyFat': None,\n",
       " 'bodyWater': None,\n",
       " 'boneMass': None,\n",
       " 'muscleMass': None,\n",
       " 'physiqueRating': None,\n",
       " 'visceralFat': None,\n",
       " 'metabolicAge': None,\n",
       " '_id': 'userProfile'}"
      ]
     },
     "execution_count": 11,
     "metadata": {},
     "output_type": "execute_result"
    }
   ],
   "source": [
    "stats['_id'] = 'userProfile'\n",
    "stats"
   ]
  },
  {
   "cell_type": "code",
   "execution_count": null,
   "metadata": {},
   "outputs": [],
   "source": [
    "# Insert metadata\n",
    "mycolunit.replace_one(\n",
    "        {'userProfileId' : 'userProfile'},\n",
    "        \n",
    "        \n",
    "        stats,\n",
    "        upsert=True\n",
    "    )"
   ]
  },
  {
   "cell_type": "code",
   "execution_count": 12,
   "metadata": {},
   "outputs": [
    {
     "data": {
      "text/plain": [
       "'Adrien'"
      ]
     },
     "execution_count": 12,
     "metadata": {},
     "output_type": "execute_result"
    }
   ],
   "source": [
    "client.get_full_name()"
   ]
  }
 ],
 "metadata": {
  "kernelspec": {
   "display_name": "Python 3",
   "language": "python",
   "name": "python3"
  },
  "language_info": {
   "codemirror_mode": {
    "name": "ipython",
    "version": 3
   },
   "file_extension": ".py",
   "mimetype": "text/x-python",
   "name": "python",
   "nbconvert_exporter": "python",
   "pygments_lexer": "ipython3",
   "version": "3.7.6"
  }
 },
 "nbformat": 4,
 "nbformat_minor": 2
}
