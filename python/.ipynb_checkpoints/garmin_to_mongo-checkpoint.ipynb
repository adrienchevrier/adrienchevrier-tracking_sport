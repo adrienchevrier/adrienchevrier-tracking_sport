{
 "cells": [
  {
   "cell_type": "code",
   "execution_count": 3,
   "metadata": {},
   "outputs": [],
   "source": [
    "from garminconnect import (\n",
    "    Garmin,\n",
    "    GarminConnectConnectionError,\n",
    "    GarminConnectTooManyRequestsError,\n",
    "    GarminConnectAuthenticationError,\n",
    ")\n",
    "from datetime import date\n",
    "import pandas as pd\n",
    "import json "
   ]
  },
  {
   "cell_type": "code",
   "execution_count": 4,
   "metadata": {},
   "outputs": [],
   "source": [
    "from configparser import ConfigParser\n",
    "\n",
    "#Read config.ini file\n",
    "config_object = ConfigParser()\n",
    "config_object.read(\"config.ini\")\n",
    "\n",
    "#Get the password\n",
    "userinfo = config_object[\"USERINFO\"]"
   ]
  },
  {
   "cell_type": "code",
   "execution_count": 5,
   "metadata": {},
   "outputs": [],
   "source": [
    "\"\"\"\n",
    "Initialize Garmin client with credentials\n",
    "\"\"\"\n",
    "try:\n",
    "    client = Garmin(userinfo[\"email\"],userinfo[\"password\"])\n",
    "except (\n",
    "    GarminConnectConnectionError,\n",
    "    GarminConnectAuthenticationError,\n",
    "    GarminConnectTooManyRequestsError,\n",
    ") as err:\n",
    "    print(\"Error occured during Garmin Connect Client init: %s\" % err)\n",
    "    quit()\n",
    "except Exception:  # pylint: disable=broad-except\n",
    "    print(\"Unknown error occured during Garmin Connect Client init\")\n",
    "    quit()"
   ]
  },
  {
   "cell_type": "code",
   "execution_count": 6,
   "metadata": {},
   "outputs": [],
   "source": [
    "\"\"\"\n",
    "Login to Garmin Connect portal\n",
    "\"\"\"\n",
    "try:\n",
    "    client.login()\n",
    "except (\n",
    "    GarminConnectConnectionError,\n",
    "    GarminConnectAuthenticationError,\n",
    "    GarminConnectTooManyRequestsError,\n",
    ") as err:\n",
    "    print(\"Error occured during Garmin Connect Client login: %s\" % err)\n",
    "    quit()\n",
    "except Exception:  # pylint: disable=broad-except\n",
    "    print(\"Unknown error occured during Garmin Connect Client login\")\n",
    "    quit()"
   ]
  },
  {
   "cell_type": "code",
   "execution_count": 7,
   "metadata": {},
   "outputs": [
    {
     "name": "stdout",
     "output_type": "stream",
     "text": [
      "Adrien\n"
     ]
    }
   ],
   "source": [
    "\"\"\"\n",
    "Get full name from profile\n",
    "\"\"\"\n",
    "try:\n",
    "    print(client.get_full_name())\n",
    "except (\n",
    "    GarminConnectConnectionError,\n",
    "    GarminConnectAuthenticationError,\n",
    "    GarminConnectTooManyRequestsError,\n",
    ") as err:\n",
    "    print(\"Error occured during Garmin Connect Client get full name: %s\" % err)\n",
    "    quit()\n",
    "except Exception:  # pylint: disable=broad-except\n",
    "    print(\"Unknown error occured during Garmin Connect Client get full name\")\n",
    "    quit()"
   ]
  },
  {
   "cell_type": "code",
   "execution_count": 8,
   "metadata": {
    "scrolled": true
   },
   "outputs": [],
   "source": [
    "\n",
    "\"\"\"\n",
    "Get activities data\n",
    "\"\"\"\n",
    "try:\n",
    "    activities = client.get_activities(0,10000) # 0=start, 1=limit\n",
    "except (\n",
    "    GarminConnectConnectionError,\n",
    "    GarminConnectAuthenticationError,\n",
    "    GarminConnectTooManyRequestsError,\n",
    ") as err:\n",
    "    print(\"Error occured during Garmin Connect Client get activities: %s\" % err)\n",
    "    quit()\n",
    "except Exception:  # pylint: disable=broad-except\n",
    "    print(\"Unknown error occured during Garmin Connect Client get activities\")\n",
    "    quit()"
   ]
  },
  {
   "cell_type": "code",
   "execution_count": 9,
   "metadata": {},
   "outputs": [
    {
     "data": {
      "text/plain": [
       "95"
      ]
     },
     "execution_count": 9,
     "metadata": {},
     "output_type": "execute_result"
    }
   ],
   "source": [
    "len(activities)"
   ]
  },
  {
   "cell_type": "code",
   "execution_count": null,
   "metadata": {
    "scrolled": true
   },
   "outputs": [],
   "source": [
    "with open('raw_activities.txt', 'w') as outfile:\n",
    "    json.dump(activities,outfile)"
   ]
  },
  {
   "cell_type": "code",
   "execution_count": null,
   "metadata": {},
   "outputs": [],
   "source": [
    "data = pd.read_json('raw_activities.txt')"
   ]
  },
  {
   "cell_type": "code",
   "execution_count": null,
   "metadata": {},
   "outputs": [],
   "source": [
    "data.head()"
   ]
  },
  {
   "cell_type": "code",
   "execution_count": null,
   "metadata": {},
   "outputs": [],
   "source": [
    "data.to_csv('raw_activities.csv',sep=',')"
   ]
  },
  {
   "cell_type": "code",
   "execution_count": null,
   "metadata": {},
   "outputs": [],
   "source": []
  }
 ],
 "metadata": {
  "kernelspec": {
   "display_name": "Python 3",
   "language": "python",
   "name": "python3"
  },
  "language_info": {
   "codemirror_mode": {
    "name": "ipython",
    "version": 3
   },
   "file_extension": ".py",
   "mimetype": "text/x-python",
   "name": "python",
   "nbconvert_exporter": "python",
   "pygments_lexer": "ipython3",
   "version": "3.7.6"
  }
 },
 "nbformat": 4,
 "nbformat_minor": 2
}
